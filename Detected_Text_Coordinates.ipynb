{
 "cells": [
  {
   "cell_type": "markdown",
   "id": "955c3c51",
   "metadata": {},
   "source": [
    "# Coordinates of Detected Text"
   ]
  },
  {
   "cell_type": "code",
   "execution_count": 1,
   "id": "908e034b",
   "metadata": {},
   "outputs": [],
   "source": [
    "# Function to print text and their coordinates\n",
    "def Print_Coordinates(data): # data= Dictionary containing results of Tesseract OCR\n",
    "    print(\"Detected Text with Coordinates:\")\n",
    "    for i in range(len(data['text'])):\n",
    "        if int(data['conf'][i]) > 20:\n",
    "            x, y, w, h = data['left'][i], data['top'][i], data['width'][i], data['height'][i]\n",
    "            detected_text = data['text'][i]\n",
    "            print(f\"Text: '{detected_text}' | Coordinates: (x: {x}, y: {y}, w: {w}, h: {h})\")"
   ]
  },
  {
   "cell_type": "code",
   "execution_count": null,
   "id": "d0698dfb",
   "metadata": {},
   "outputs": [],
   "source": []
  }
 ],
 "metadata": {
  "kernelspec": {
   "display_name": "Python 3 (ipykernel)",
   "language": "python",
   "name": "python3"
  },
  "language_info": {
   "codemirror_mode": {
    "name": "ipython",
    "version": 3
   },
   "file_extension": ".py",
   "mimetype": "text/x-python",
   "name": "python",
   "nbconvert_exporter": "python",
   "pygments_lexer": "ipython3",
   "version": "3.11.4"
  }
 },
 "nbformat": 4,
 "nbformat_minor": 5
}
