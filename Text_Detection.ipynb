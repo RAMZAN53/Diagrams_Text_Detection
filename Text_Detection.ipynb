{
 "cells": [
  {
   "cell_type": "markdown",
   "id": "6f3a843e",
   "metadata": {},
   "source": [
    "# Horizontally and Vertically Text Detection"
   ]
  },
  {
   "cell_type": "markdown",
   "id": "e03cddf0",
   "metadata": {},
   "source": [
    "TextDetection function detect the text by vertical and horizontal orientation in the image.\n",
    "Horizontal text has more width (wider) than height.\n",
    "Vertical text has more height (taller) than width."
   ]
  },
  {
   "cell_type": "code",
   "execution_count": 1,
   "id": "ae0fd237",
   "metadata": {},
   "outputs": [],
   "source": [
    "# Importing Libraries\n",
    "import cv2\n",
    "import pytesseract\n",
    "from pytesseract import Output"
   ]
  },
  {
   "cell_type": "code",
   "execution_count": 2,
   "id": "106b5da6",
   "metadata": {},
   "outputs": [],
   "source": [
    "# Function to detect text\n",
    "# It returns detected horizontal and vertical detected text, box image, and OCR data\n",
    "def TextDetection(img_path, config=r\"--psm 11 --oem 3\"):\n",
    "    # Load the image\n",
    "    img = cv2.imread(img_path)\n",
    "    \n",
    "    # Check if the image is loaded successfully\n",
    "    if img is None:\n",
    "        raise ValueError(f\"Image not found or unable to load: {img_path}\")\n",
    "    \n",
    "    height, width, _ = img.shape\n",
    "\n",
    "    # Perform OCR to get data dictionary\n",
    "    data = pytesseract.image_to_data(img, config=config, output_type=Output.DICT)\n",
    "\n",
    "    horizontal_text = []\n",
    "    vertical_text = []\n",
    "\n",
    "    num_boxes = len(data['text'])\n",
    "    for i in range(num_boxes):\n",
    "        # Consider only text with confidence > 20\n",
    "        if int(data['conf'][i]) > 20:\n",
    "            x, y, w, h = data['left'][i], data['top'][i], data['width'][i], data['height'][i]\n",
    "            detected_text = data['text'][i]\n",
    "\n",
    "            # Determine horizontal and vertical orientation\n",
    "            if w > h:  # Wider than tall -> Horizontal\n",
    "                horizontal_text.append(detected_text)\n",
    "                color = (0, 255, 0)  # Green for horizontal\n",
    "            else:  # Taller than wide -> Vertical\n",
    "                vertical_text.append(detected_text)\n",
    "                color = (255, 0, 0)  # Blue for vertical\n",
    "\n",
    "            # Draw bounding boxes\n",
    "            img = cv2.rectangle(img, (x, y), (x + w, y + h), color, 2)\n",
    "\n",
    "            # Put detected text on the image\n",
    "            img = cv2.putText(img, detected_text, (x, y - 10), cv2.FONT_HERSHEY_SIMPLEX, 0.5, color, 2, cv2.LINE_AA)\n",
    "\n",
    "    # Return image, horizontal text, vertical text, and OCR data\n",
    "    return img, horizontal_text, vertical_text, data"
   ]
  },
  {
   "cell_type": "code",
   "execution_count": null,
   "id": "bd037fdc",
   "metadata": {},
   "outputs": [],
   "source": []
  }
 ],
 "metadata": {
  "kernelspec": {
   "display_name": "Python 3 (ipykernel)",
   "language": "python",
   "name": "python3"
  },
  "language_info": {
   "codemirror_mode": {
    "name": "ipython",
    "version": 3
   },
   "file_extension": ".py",
   "mimetype": "text/x-python",
   "name": "python",
   "nbconvert_exporter": "python",
   "pygments_lexer": "ipython3",
   "version": "3.11.4"
  }
 },
 "nbformat": 4,
 "nbformat_minor": 5
}
